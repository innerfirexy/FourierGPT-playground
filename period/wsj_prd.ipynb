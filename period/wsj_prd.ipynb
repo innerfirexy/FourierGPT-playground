{
 "cells": [
  {
   "cell_type": "code",
   "execution_count": 1,
   "metadata": {},
   "outputs": [],
   "source": [
    "import os\n",
    "from tree_utils import Tree"
   ]
  },
  {
   "cell_type": "code",
   "execution_count": 2,
   "metadata": {},
   "outputs": [],
   "source": [
    "data_dir = '/Users/xy/data/PennTreebank_full/parsed/prd/wsj'\n",
    "assert os.path.exists(data_dir), 'data_dir not found'"
   ]
  },
  {
   "cell_type": "code",
   "execution_count": 3,
   "metadata": {},
   "outputs": [
    {
     "name": "stdout",
     "output_type": "stream",
     "text": [
      "Found 25 subdirectories in /Users/xy/data/PennTreebank_full/parsed/prd/wsj\n",
      "['00', '01', '02', '03', '04', '05', '06', '07', '08', '09', '10', '11', '12', '13', '14', '15', '16', '17', '18', '19', '20', '21', '22', '23', '24']\n"
     ]
    }
   ],
   "source": [
    "# How many subdirectories\n",
    "sub_dirs = [sd for sd in os.listdir(data_dir) \\\n",
    "            if os.path.isdir(os.path.join(data_dir, sd))]\n",
    "sub_dirs = sorted(sub_dirs)\n",
    "print(f'Found {len(sub_dirs)} subdirectories in {data_dir}')\n",
    "print(sub_dirs)"
   ]
  },
  {
   "cell_type": "code",
   "execution_count": 4,
   "metadata": {},
   "outputs": [
    {
     "name": "stdout",
     "output_type": "stream",
     "text": [
      "Found 2312 .prd files in total\n",
      "Examples: ['/Users/xy/data/PennTreebank_full/parsed/prd/wsj/00/wsj_0042.prd']\n"
     ]
    }
   ],
   "source": [
    "# How many .prd files exist in total\n",
    "prd_files = [os.path.join(data_dir, sd, f) \\\n",
    "             for sd in sub_dirs \\\n",
    "                for f in os.listdir(os.path.join(data_dir, sd)) \\\n",
    "                    if f.endswith('.prd')]\n",
    "print(f'Found {len(prd_files)} .prd files in total')\n",
    "print('Examples:', prd_files[:1])"
   ]
  },
  {
   "cell_type": "code",
   "execution_count": 5,
   "metadata": {},
   "outputs": [
    {
     "name": "stdout",
     "output_type": "stream",
     "text": [
      "Found 6 trees in /Users/xy/data/PennTreebank_full/parsed/prd/wsj/00/wsj_0008.prd\n",
      "Examples:\n",
      " ( (S (NP-SBJ The federal government) (VP suspended (NP (NP sales) (PP of (NP U.S. savings bonds))) (SBAR-PRP because (S (NP-SBJ Congress) (VP has n't (VP lifted (NP (NP the ceiling) (PP-LOC on (NP government debt)))))))) .))\n"
     ]
    }
   ],
   "source": [
    "# Work on a .prd example\n",
    "example_prd_file = '/Users/xy/data/PennTreebank_full/parsed/prd/wsj/00/wsj_0008.prd'\n",
    "\n",
    "tree_strings = []\n",
    "with open(example_prd_file) as f:\n",
    "    lp_count, rp_count = 0, 0\n",
    "    tmp_str = ''\n",
    "    for line in f:\n",
    "        line = line.strip()\n",
    "        if not line: continue\n",
    "        lp_count += line.count('(')\n",
    "        rp_count += line.count(')')\n",
    "        if lp_count > rp_count:\n",
    "            tmp_str += ' ' + line\n",
    "        elif lp_count == rp_count:\n",
    "            tmp_str += ' ' + line\n",
    "            tree_strings.append(tmp_str)\n",
    "            tmp_str = ''\n",
    "            lp_count, rp_count = 0, 0\n",
    "        else:\n",
    "            raise ValueError('Something wrong with the parentheses')\n",
    "\n",
    "print(f'Found {len(tree_strings)} trees in {example_prd_file}')\n",
    "print('Examples:')\n",
    "print(tree_strings[0])"
   ]
  },
  {
   "cell_type": "code",
   "execution_count": 6,
   "metadata": {},
   "outputs": [
    {
     "name": "stdout",
     "output_type": "stream",
     "text": [
      "Found 6 trees in /Users/xy/data/PennTreebank_full/parsed/prd/wsj/00/wsj_0008.prd\n",
      "Examples:\n",
      "( (S (NP-SBJ The federal government) (VP suspended (NP (NP sales) (PP of (NP U.S. savings bonds))) (SBAR-PRP because (S (NP-SBJ Congress) (VP has n't (VP lifted (NP (NP the ceiling) (PP-LOC on (NP government debt)))))))) .))\n"
     ]
    }
   ],
   "source": [
    "# Wrap up the above ops into a function\n",
    "def get_tree_strings(prd_file):\n",
    "    tree_strings = []\n",
    "    with open(prd_file) as f:\n",
    "        lp_count, rp_count = 0, 0\n",
    "        tmp_str = ''\n",
    "        for line in f:\n",
    "            line = line.strip()\n",
    "            if not line: continue\n",
    "            lp_count += line.count('(')\n",
    "            rp_count += line.count(')')\n",
    "            if lp_count > rp_count:\n",
    "                tmp_str += ' ' + line # add a space to separate words/phrasal structures\n",
    "            elif lp_count == rp_count:\n",
    "                tmp_str += ' ' + line # same as above\n",
    "                tree_strings.append(tmp_str.strip())\n",
    "                tmp_str = ''\n",
    "                lp_count, rp_count = 0, 0\n",
    "            else:\n",
    "                raise ValueError('Something wrong with the parentheses')\n",
    "    return tree_strings\n",
    "\n",
    "# Test the function\n",
    "tree_strings = get_tree_strings(example_prd_file)\n",
    "print(f'Found {len(tree_strings)} trees in {example_prd_file}')\n",
    "print('Examples:')\n",
    "print(tree_strings[0])"
   ]
  },
  {
   "cell_type": "code",
   "execution_count": 7,
   "metadata": {},
   "outputs": [
    {
     "name": "stdout",
     "output_type": "stream",
     "text": [
      "(S ('NP-SBJ', ['The federal government'])('VP', ['suspended', ('NP', [('NP', ['sales']), ('PP', ['of', ('NP', ['U.S. savings bonds'])])]), ('SBAR-PRP', ['because', ('S', [('NP-SBJ', ['Congress']), ('VP', [\"has n't\", ('VP', ['lifted', ('NP', [('NP', ['the ceiling']), ('PP-LOC', ['on', ('NP', ['government debt'])])])])])])])]).)\n",
      "['The federal government', 'suspended', 'sales', 'of', 'U.S. savings bonds', 'because', 'Congress', \"has n't\", 'lifted', 'the ceiling', 'on', 'government debt', '.']\n",
      "(S ('S-TPC-1', [('SBAR-TMP', ['Until', ('S', [('NP-SBJ', ['Congress']), ('VP', ['acts'])])]), ',', ('NP-SBJ', ['the government']), ('VP', [\"has n't\", ('NP', ['any authority', ('S', [('NP-SBJ', ['*']), ('VP', ['to', ('VP', ['issue', ('NP', [('NP', ['new debt obligations']), ('PP', ['of', ('NP', ['any kind'])])])])])])])])]),('NP-SBJ', ['the Treasury'])('VP', ['said', ('SBAR', ['0', ('S', ['*T*-1'])])]).)\n",
      "['Until', 'Congress', 'acts', ',', 'the government', \"has n't\", 'any authority', '*', 'to', 'issue', 'new debt obligations', 'of', 'any kind', ',', 'the Treasury', 'said', '0', '*T*-1', '.']\n",
      "Sample a random tree string:\n",
      "( (S (NP-SBJ The Treasury) (VP said (SBAR 0 (S (NP-SBJ the U.S.) (VP will (VP default (PP-TMP on (NP Nov. 9)) (SBAR-ADV if (S (NP-SBJ Congress) (VP does n't (VP act (PP-TMP by (NP then))))))))))) .))\n",
      "['The Treasury', 'said', '0', 'the U.S.', 'will', 'default', 'on', 'Nov. 9', 'if', 'Congress', \"does n't\", 'act', 'by', 'then', '.']\n"
     ]
    }
   ],
   "source": [
    "tree0 = Tree(tree_strings[0])\n",
    "\n",
    "print(tree0)\n",
    "print(tree0.leaves())\n",
    "\n",
    "tree1 = Tree(tree_strings[1])\n",
    "print(tree1)\n",
    "print(tree1.leaves())\n",
    "\n",
    "# sample a random tree string\n",
    "import random\n",
    "print('Sample a random tree string:')\n",
    "random_tree_string = random.choice(tree_strings)\n",
    "print(random_tree_string)\n",
    "random_tree = Tree(random_tree_string)\n",
    "print(random_tree.leaves())"
   ]
  },
  {
   "cell_type": "code",
   "execution_count": 8,
   "metadata": {},
   "outputs": [],
   "source": [
    "# Test over all prd files\n",
    "for prd_file in prd_files:\n",
    "    tree_strings = get_tree_strings(prd_file)\n",
    "    for tree_str in tree_strings:\n",
    "        try:\n",
    "            tree = Tree(tree_str)\n",
    "        except Exception as e:\n",
    "            print('Parsing problem with tree string:')\n",
    "            print(f'prd_file: {prd_file}')\n",
    "            print(f'tree_str: {tree_str}')\n",
    "            print(e)\n",
    "            raise"
   ]
  },
  {
   "cell_type": "code",
   "execution_count": 9,
   "metadata": {},
   "outputs": [
    {
     "name": "stderr",
     "output_type": "stream",
     "text": [
      "100%|██████████| 2312/2312 [00:03<00:00, 706.69it/s]\n"
     ]
    }
   ],
   "source": [
    "# extract all leaves and save to text files\n",
    "import os\n",
    "from tqdm import tqdm\n",
    "\n",
    "output_dir = '/Users/xy/data/PennTreebank_full/prd_leaves/wsj'\n",
    "if not os.path.exists(output_dir):\n",
    "    os.makedirs(output_dir)\n",
    "\n",
    "for dir in sub_dirs: # create subdirectories\n",
    "    dir_path = os.path.join(output_dir, dir)\n",
    "    if not os.path.exists(dir_path):\n",
    "        os.makedirs(dir_path)\n",
    "\n",
    "# Read all .prd files and extract leaves\n",
    "for prd_file in tqdm(prd_files):\n",
    "    tree_strings = get_tree_strings(prd_file)\n",
    "    leaf_strings = []\n",
    "    for tree_str in tree_strings:\n",
    "        tree = Tree(tree_str)\n",
    "        leaves = tree.leaves()\n",
    "        leaf_strings.append(' '.join(leaves))\n",
    "\n",
    "    sub_dir = os.path.basename(os.path.dirname(prd_file)) # ../00/wsj_0001.prd -> 00\n",
    "    filename = os.path.splitext(os.path.basename(prd_file))[0] # wsj_0001.prd -> wsj_0001\n",
    "    output_file = os.path.join(output_dir, sub_dir, filename + '.txt')\n",
    "    with open(output_file, 'w') as f:\n",
    "        f.write('\\n'.join(leaf_strings))"
   ]
  }
 ],
 "metadata": {
  "kernelspec": {
   "display_name": "base",
   "language": "python",
   "name": "python3"
  },
  "language_info": {
   "codemirror_mode": {
    "name": "ipython",
    "version": 3
   },
   "file_extension": ".py",
   "mimetype": "text/x-python",
   "name": "python",
   "nbconvert_exporter": "python",
   "pygments_lexer": "ipython3",
   "version": "3.11.5"
  }
 },
 "nbformat": 4,
 "nbformat_minor": 2
}
